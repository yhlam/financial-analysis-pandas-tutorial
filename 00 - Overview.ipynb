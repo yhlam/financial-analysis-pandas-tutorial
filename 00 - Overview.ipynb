{
 "metadata": {
  "name": "",
  "signature": "sha256:b55ea864f3418ea1b2ffd20370d26adaa3733f1e24613e1eea28dfa8a0bc4b7d"
 },
 "nbformat": 3,
 "nbformat_minor": 0,
 "worksheets": [
  {
   "cells": [
    {
     "cell_type": "markdown",
     "metadata": {},
     "source": [
      "# Financial Analysis with Pandas"
     ]
    },
    {
     "cell_type": "markdown",
     "metadata": {},
     "source": [
      "## Overview\n",
      "1. [Pandas Basics](01 - Pandas Basics.ipynb)\n",
      "2. [Technical Indicator](02 - Technical Indicator.ipynb)\n",
      "3. [CAPM](03 - CAPM.ipynb)"
     ]
    },
    {
     "cell_type": "markdown",
     "metadata": {},
     "source": [
      "## Credit\n",
      "Some ideas / materials are stolen from:\n",
      "- [Pandas cookbook](https://github.com/jvns/pandas-cookbook/) by Julia Evans\n",
      "- [Financial Analysis in Python](https://github.com/twiecki/financial-analysis-python-tutorial) by Thomas Wiecki\n",
      "- [Eurex Tutorial - Interactive Financial Analytics](http://youtu.be/8cGvwHp_BQ0) by Yves Hilpisch"
     ]
    },
    {
     "cell_type": "markdown",
     "metadata": {},
     "source": [
      "<a href='01 - Pandas Basics.ipynb' style='float: right'><button class='btn'>01 - Pandas Basics <i class='icon-chevron-right'></i></button></a>"
     ]
    }
   ],
   "metadata": {}
  }
 ]
}